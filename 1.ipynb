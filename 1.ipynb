{
 "cells": [
  {
   "cell_type": "code",
   "execution_count": 2,
   "metadata": {},
   "outputs": [
    {
     "name": "stdout",
     "output_type": "stream",
     "text": [
      "Summary returned successfully\n"
     ]
    }
   ],
   "source": [
    "import os \n",
    "with open('ache.txt', 'r') as file:\n",
    "    data = file.readlines()\n",
    "    with open('ABC.txt', 'w') as file:\n",
    "      for line in data:\n",
    "         file.write('- ' + line)\n",
    "print(\"Summary returned successfully\")"
   ]
  },
  {
   "cell_type": "code",
   "execution_count": null,
   "metadata": {},
   "outputs": [],
   "source": [
    "import os\n",
    "with open('ache.txt','r') as file:\n",
    "    data=file.readlines()\n",
    "    with open('abc.txt','w') as file:\n",
    "        for line in data:\n",
    "            file.write('-' + line)\n",
    "print(\"summary\")"
   ]
  },
  {
   "cell_type": "code",
   "execution_count": null,
   "metadata": {},
   "outputs": [],
   "source": [
    "//write a python class that store books in dictionary has a method add_bookname(title,author,year) to add book and get_book_info title to fetch information about a book uses try except to handle cases where a book is not FileNotFoundError\n",
    "\n",
    "class Book:\n",
    "    def __init__(self):\n",
    "        self.books = {}\n",
    "        def add_bookname(self,title,author,year):\n",
    "\n",
    "            \n",
    "\n"
   ]
  },
  {
   "cell_type": "code",
   "execution_count": 1,
   "metadata": {},
   "outputs": [
    {
     "name": "stdout",
     "output_type": "stream",
     "text": [
      "Book '1984' added successfully.\n",
      "Book 'To Kill a Mockingbird' added successfully.\n",
      "Title: 1984, Author: George Orwell, Year: 1949\n",
      "Error: The book 'The Great Gatsby' was not found in the store.\n"
     ]
    }
   ],
   "source": [
    "class BookStore:\n",
    "    def __init__(self):\n",
    "       \n",
    "        self.books = {}\n",
    "\n",
    "    def add_bookname(self, title, author, year):\n",
    "        self.books[title] = {'author': author, 'year': year}\n",
    "        print(f\"Book '{title}' added successfully.\")\n",
    "\n",
    "    def get_book_info(self, title):\n",
    "   \n",
    "        try:\n",
    "            book_info = self.books[title]\n",
    "            return f\"Title: {title}, Author: {book_info['author']}, Year: {book_info['year']}\"\n",
    "        except KeyError:\n",
    "            return f\"Error: The book '{title}' was not found in the store.\"\n",
    "\n",
    "if __name__ == \"__main__\":\n",
    "    bookstore = BookStore()\n",
    "    \n",
    "    bookstore.add_bookname(\"1984\", \"George Orwell\", 1949)\n",
    "    bookstore.add_bookname(\"To Kill a Mockingbird\", \"Harper Lee\", 1960)\n",
    "    \n",
    "    print(bookstore.get_book_info(\"1984\"))  # Should return the info for 1984\n",
    "    print(bookstore.get_book_info(\"The Great Gatsby\"))  # Should handle the error"
   ]
  },
  {
   "cell_type": "code",
   "execution_count": null,
   "metadata": {},
   "outputs": [],
   "source": [
    "//write a python program to manage scoreboard to add player ,remove a player display all player and score,display top scorer exit the program,enter player name from User with choice code display\n",
    "\n",
    "class Scoreboard:\n",
    "    def __init__(self):\n",
    "        self.players = {}\n",
    "        self.top_scorer = {}\n",
    "        self.score = 0\n",
    "        self.top_score = 0\n",
    "        \n",
    "        self.top_scorer_name = \"\"\n",
    "        self.top_scorer_score = 0\n",
    "        self.top_scorer_rank = 1\n",
    "        self.top_scorer_ranking = []\n",
    "\n",
    "        \n",
    "\n",
    "\n",
    "\n",
    "        \n",
    "        \n",
    "\n",
    "\n",
    "\n",
    "\n"
   ]
  },
  {
   "cell_type": "code",
   "execution_count": 2,
   "metadata": {},
   "outputs": [
    {
     "name": "stdout",
     "output_type": "stream",
     "text": [
      "Player added successfully!\n"
     ]
    },
    {
     "ename": "SyntaxError",
     "evalue": "'return' outside function (4232934484.py, line 32)",
     "output_type": "error",
     "traceback": [
      "\u001b[0;36m  Cell \u001b[0;32mIn[2], line 32\u001b[0;36m\u001b[0m\n\u001b[0;31m    return\u001b[0m\n\u001b[0m    ^\u001b[0m\n\u001b[0;31mSyntaxError\u001b[0m\u001b[0;31m:\u001b[0m 'return' outside function\n"
     ]
    }
   ],
   "source": [
    "players = []\n",
    "\n",
    "def add_player():\n",
    "\n",
    "  player_code = input(\"Enter player code: \")\n",
    "\n",
    "  score = input(\"Enter player score: \")\n",
    "\n",
    "  rank = input(\"Enter player rank: \")\n",
    "\n",
    "  players.append({'code': player_code, 'score': score, 'rank': rank})\n",
    "\n",
    "print(\"Player added successfully!\")\n",
    "\n",
    "def delete_player():\n",
    "\n",
    "  if not players:\n",
    "\n",
    "   print(\"No players found.\")\n",
    "\n",
    "  return\n",
    "\n",
    "player_code = input(\"Enter player code to delete: \")\n",
    "\n",
    "for i, player in enumerate(players):\n",
    "\n",
    "    if player['code'] == player_code:\n",
    "\n",
    "        del players[i]\n",
    "\n",
    "        print(\"Player deleted successfully!\")\n",
    "return\n",
    "\n",
    "print(\"Player not found.\")\n",
    "\n",
    "def display_players():\n",
    "\n",
    "   if not players:\n",
    "\n",
    "    print(\"No players found.\")\n",
    "\n",
    "    return\n",
    "\n",
    "print(\"Code\\tScore\\tRank\")\n",
    "\n",
    "for player in players:\n",
    "\n",
    "     print(\"{}\\t{}\\t{}\".format(player['code'], player['score'], player['rank']))\n",
    "\n",
    "while True:\n",
    "\n",
    "    print(\"1. Add player\")\n",
    "\n",
    "    print(\"2. Delete player\")\n",
    "\n",
    "    print(\"3. Display players\")\n",
    "\n",
    "    print(\"4. Exit\")\n",
    "\n",
    "choice = int(input(\"Enter your choice: \"))\n",
    "\n",
    "if choice == 1:\n",
    "\n",
    "    add_player()\n",
    "\n",
    "elif choice == 2:\n",
    "\n",
    "     delete_player()\n",
    "\n",
    "elif choice == 3:\n",
    "\n",
    "     display_players()\n",
    "\n",
    "elif choice == 4:\n",
    " \n",
    "    break\n",
    "\n",
    "else:\n",
    "\n",
    " print(\"Invalid choice.\")"
   ]
  },
  {
   "cell_type": "code",
   "execution_count": null,
   "metadata": {},
   "outputs": [],
   "source": []
  }
 ],
 "metadata": {
  "kernelspec": {
   "display_name": "Python 3",
   "language": "python",
   "name": "python3"
  },
  "language_info": {
   "codemirror_mode": {
    "name": "ipython",
    "version": 3
   },
   "file_extension": ".py",
   "mimetype": "text/x-python",
   "name": "python",
   "nbconvert_exporter": "python",
   "pygments_lexer": "ipython3",
   "version": "3.12.3"
  }
 },
 "nbformat": 4,
 "nbformat_minor": 2
}
