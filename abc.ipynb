players = []

def add_player():

  player_code = input("Enter player code: ")

  score = input("Enter player score: ")

  rank = input("Enter player rank: ")

  players.append({'code': player_code, 'score': score, 'rank': rank})

print("Player added successfully!")

def delete_player():

  if not players:

   print("No players found.")

  return

player_code = input("Enter player code to delete: ")

for i, player in enumerate(players):

    if player['code'] == player_code:

        del players[i]

        print("Player deleted successfully!")
return

print("Player not found.")

def display_players():

   if not players:

    print("No players found.")

    return

print("Code\tScore\tRank")

for player in players:

     print("{}\t{}\t{}".format(player['code'], player['score'], player['rank']))

while True:

    print("1. Add player")

    print("2. Delete player")

    print("3. Display players")

    print("4. Exit")

choice = int(input("Enter your choice: "))

if choice == 1:

    add_player()

elif choice == 2:

     delete_player()

elif choice == 3:

     display_players()

elif choice == 4:
 
    break

else:

 print("Invalid choice.")